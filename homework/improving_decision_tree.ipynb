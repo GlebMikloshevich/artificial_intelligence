{
 "cells": [
  {
   "cell_type": "markdown",
   "source": [
    "# HM: create decision tree with error < 0.001 using test_dat.dat dataset"
   ],
   "metadata": {
    "collapsed": false,
    "pycharm": {
     "name": "#%% md\n"
    }
   }
  },
  {
   "cell_type": "code",
   "execution_count": 1,
   "outputs": [],
   "source": [
    "import numpy as np\n",
    "import pandas as pd\n",
    "import matplotlib.pyplot as plt\n",
    "import seaborn as sns\n",
    "from sklearn import tree\n",
    "from sklearn.decomposition import PCA\n",
    "from sklearn.preprocessing import StandardScaler\n",
    "import graphviz\n",
    "\n",
    "%matplotlib inline\n",
    "\n",
    "# fix images\n",
    "plt.rcdefaults()"
   ],
   "metadata": {
    "collapsed": false,
    "pycharm": {
     "name": "#%%\n"
    }
   }
  },
  {
   "cell_type": "code",
   "execution_count": 4,
   "outputs": [],
   "source": [
    "# reading dataset\n",
    "\n",
    "f = open('../datasets/test_add.dat', 'r')\n",
    "X = []\n",
    "y = []\n",
    "for row in f:\n",
    "    a = (list(map(float,row.strip().split())))\n",
    "    X.append([a[0], a[1], a[2], a[3]])\n",
    "    y.append(int(a[4]))\n",
    "\n",
    "X = np.array(X)\n",
    "y = np.array(y)"
   ],
   "metadata": {
    "collapsed": false,
    "pycharm": {
     "name": "#%%\n"
    }
   }
  },
  {
   "cell_type": "code",
   "execution_count": 13,
   "outputs": [
    {
     "name": "stdout",
     "output_type": "stream",
     "text": [
      "dataset size = 1000000\n"
     ]
    }
   ],
   "source": [
    "size = y.size\n",
    "print(f'dataset size = {size}')"
   ],
   "metadata": {
    "collapsed": false,
    "pycharm": {
     "name": "#%%\n"
    }
   }
  },
  {
   "cell_type": "markdown",
   "source": [
    "## Using tree reduction"
   ],
   "metadata": {
    "collapsed": false,
    "pycharm": {
     "name": "#%% md\n"
    }
   }
  },
  {
   "cell_type": "code",
   "execution_count": 34,
   "outputs": [],
   "source": [
    "t = tree.DecisionTreeClassifier(min_weight_fraction_leaf=0.00001, max_depth=80, min_samples_split=100)\n",
    "t = t.fit(X, y)"
   ],
   "metadata": {
    "collapsed": false,
    "pycharm": {
     "name": "#%%\n"
    }
   }
  },
  {
   "cell_type": "code",
   "execution_count": null,
   "outputs": [],
   "source": [
    "plt.figure(figsize=(12,10))  # set plot size (denoted in inches)\n",
    "tree.plot_tree(t, fontsize=6)\n",
    "plt.show()"
   ],
   "metadata": {
    "collapsed": false,
    "pycharm": {
     "name": "#%%\n"
    }
   }
  },
  {
   "cell_type": "code",
   "execution_count": 35,
   "outputs": [
    {
     "name": "stdout",
     "output_type": "stream",
     "text": [
      "errors: 37036\n",
      "$ of errors: 3.7036\n"
     ]
    }
   ],
   "source": [
    "answers = t.predict(X)\n",
    "errors = np.logical_xor(answers, y).sum()\n",
    "print(f'errors: {errors}')\n",
    "print(f'$ of errors: {errors/size * 100}')"
   ],
   "metadata": {
    "collapsed": false,
    "pycharm": {
     "name": "#%%\n"
    }
   }
  },
  {
   "cell_type": "markdown",
   "source": [
    "number of errors is too big"
   ],
   "metadata": {
    "collapsed": false,
    "pycharm": {
     "name": "#%% md\n"
    }
   }
  },
  {
   "cell_type": "markdown",
   "source": [
    "## Try using PCA"
   ],
   "metadata": {
    "collapsed": false,
    "pycharm": {
     "name": "#%% md\n"
    }
   }
  },
  {
   "cell_type": "code",
   "execution_count": 32,
   "outputs": [],
   "source": [
    "scaler = StandardScaler()\n",
    "scaler.fit(X)\n",
    "train_X = scaler.transform(X)\n",
    "pca = PCA(0.99)\n",
    "k = pca.fit_transform(train_X)\n",
    "\n",
    "clf1 = tree.DecisionTreeClassifier(min_weight_fraction_leaf=0.00001, max_depth=80, min_samples_split=100)\n",
    "clf1 = clf1.fit(k, y)\n",
    "# dot_data = tree.export_graphviz(clf1, out_file=None)\n",
    "# graph = graphviz.Source(dot_data)\n",
    "# graph.render(\"smiles_tree\")"
   ],
   "metadata": {
    "collapsed": false,
    "pycharm": {
     "name": "#%%\n"
    }
   }
  },
  {
   "cell_type": "code",
   "execution_count": 33,
   "outputs": [
    {
     "name": "stdout",
     "output_type": "stream",
     "text": [
      "errors: 52274\n",
      "$ of errors: 5.2274\n"
     ]
    }
   ],
   "source": [
    "pca_answers = clf1.predict(k)\n",
    "pca_errors = np.logical_xor(pca_answers, y).sum()\n",
    "print(f'errors: {pca_errors}')\n",
    "print(f'$ of errors: {pca_errors/size * 100}')"
   ],
   "metadata": {
    "collapsed": false,
    "pycharm": {
     "name": "#%%\n"
    }
   }
  },
  {
   "cell_type": "code",
   "execution_count": null,
   "outputs": [],
   "source": [],
   "metadata": {
    "collapsed": false,
    "pycharm": {
     "name": "#%%\n"
    }
   }
  }
 ],
 "metadata": {
  "kernelspec": {
   "display_name": "Python 3",
   "language": "python",
   "name": "python3"
  },
  "language_info": {
   "codemirror_mode": {
    "name": "ipython",
    "version": 2
   },
   "file_extension": ".py",
   "mimetype": "text/x-python",
   "name": "python",
   "nbconvert_exporter": "python",
   "pygments_lexer": "ipython2",
   "version": "2.7.6"
  }
 },
 "nbformat": 4,
 "nbformat_minor": 0
}