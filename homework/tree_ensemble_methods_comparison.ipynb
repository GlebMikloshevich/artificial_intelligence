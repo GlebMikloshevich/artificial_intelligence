{
 "cells": [
  {
   "cell_type": "markdown",
   "id": "ae2c3c2f",
   "metadata": {},
   "source": [
    "# HM: compare score of differently ensembled tree"
   ]
  },
  {
   "cell_type": "code",
   "execution_count": 46,
   "id": "c32525c9",
   "metadata": {},
   "outputs": [],
   "source": [
    "import numpy as np\n",
    "import pandas as pd\n",
    "import matplotlib.pyplot as plt\n",
    "from sklearn import tree\n",
    "from sklearn.ensemble import BaggingClassifier, StackingClassifier, AdaBoostClassifier\n",
    "from sklearn.datasets import make_classification\n",
    "import sklearn.datasets as sd\n",
    "import sklearn.model_selection as sm\n",
    "import graphviz"
   ]
  },
  {
   "cell_type": "code",
   "execution_count": 25,
   "id": "8932481d",
   "metadata": {},
   "outputs": [],
   "source": [
    "test_dat_path = '../datasets/test_add_forest.dat'"
   ]
  },
  {
   "cell_type": "code",
   "execution_count": 26,
   "id": "855f32e9",
   "metadata": {},
   "outputs": [],
   "source": [
    "f = open(test_dat_path, 'r')\n",
    "\n",
    "X = []\n",
    "y = []\n",
    "\n",
    "for line in f:\n",
    "    cols = line.split()\n",
    "    if cols:\n",
    "        X.append([cols[0], cols[1], cols[2], cols[3], cols[4], cols[5], cols[6], cols[7], cols[8], cols[9]])\n",
    "        y.append(cols[10])"
   ]
  },
  {
   "cell_type": "code",
   "execution_count": 27,
   "id": "cf90f36a",
   "metadata": {},
   "outputs": [
    {
     "data": {
      "text/plain": [
       "0.7684931506849315"
      ]
     },
     "execution_count": 27,
     "metadata": {},
     "output_type": "execute_result"
    }
   ],
   "source": [
    "AdaBoost_tree = AdaBoostClassifier(tree.DecisionTreeClassifier(max_depth=2), n_estimators=2)\n",
    "\n",
    "AdaBoost_tree.fit(X, y)\n",
    "AdaBoost_score = AdaBoost_tree.score(X, y)\n",
    "AdaBoost_score"
   ]
  },
  {
   "cell_type": "code",
   "execution_count": 20,
   "id": "39c4c0e3",
   "metadata": {},
   "outputs": [
    {
     "data": {
      "text/plain": [
       "0.6666666666666666"
      ]
     },
     "execution_count": 20,
     "metadata": {},
     "output_type": "execute_result"
    }
   ],
   "source": [
    "stacking_tree = StackingClassifier(estimators=[('t1', tree.DecisionTreeClassifier(max_depth=2)),\n",
    "                                              ('t2', tree.DecisionTreeClassifier(max_depth=2))],\n",
    "                                  final_estimator=tree.DecisionTreeClassifier(max_depth=2))\n",
    "\n",
    "stacking_tree = stacking_tree.fit(X, y)\n",
    "stacking_tree_score = stacking_tree.score(X, y)\n",
    "stacking_tree_score"
   ]
  },
  {
   "cell_type": "code",
   "execution_count": 21,
   "id": "c0e4179c",
   "metadata": {},
   "outputs": [
    {
     "data": {
      "text/plain": [
       "0.7397260273972602"
      ]
     },
     "execution_count": 21,
     "metadata": {},
     "output_type": "execute_result"
    }
   ],
   "source": [
    "bagging_tree = BaggingClassifier(tree.DecisionTreeClassifier(max_depth=2), n_estimators=2)\n",
    "bagging_tree = bagging_tree.fit(X, y)\n",
    "\n",
    "bagging_tree_score = bagging_tree.score(X, y)\n",
    "bagging_tree_score"
   ]
  },
  {
   "cell_type": "code",
   "execution_count": 22,
   "id": "7fc78ece",
   "metadata": {},
   "outputs": [
    {
     "data": {
      "text/plain": [
       "0.6719178082191781"
      ]
     },
     "execution_count": 22,
     "metadata": {},
     "output_type": "execute_result"
    }
   ],
   "source": [
    "tree = tree.DecisionTreeClassifier(max_depth=2)\n",
    "tree = tree.fit(X, y)\n",
    "\n",
    "tree_score = tree.score(X, y)\n",
    "tree_score"
   ]
  },
  {
   "cell_type": "code",
   "execution_count": 56,
   "id": "dea3b43a",
   "metadata": {},
   "outputs": [
    {
     "data": {
      "image/png": "[encoded data removed]",
      "text/plain": [
       "<Figure size 432x288 with 1 Axes>"
      ]
     },
     "metadata": {
      "needs_background": "light"
     },
     "output_type": "display_data"
    },
    {
     "data": {
      "text/plain": [
       "<Figure size 1800x1500 with 0 Axes>"
      ]
     },
     "metadata": {},
     "output_type": "display_data"
    }
   ],
   "source": [
    "data = np.array([[tree_score, bagging_tree_score, stacking_tree_score, AdaBoost_score]]) * 100\n",
    "columns = ['tree', 'baggin_tree', 'stacking tree', 'AdaBoost']\n",
    "\n",
    "df=pd.DataFrame(data,columns=columns)\n",
    "\n",
    "# print(data)\n",
    "fig, ax = plt.subplots(1, 1)\n",
    "plt.figure(figsize=(12, 10), dpi=150)\n",
    "ax.axis('off')\n",
    "ax.axis('tight')\n",
    "\n",
    "\n",
    "ax.table(cellText=df.values,colLabels=df.columns,rowLabels=['accuracy'],loc=\"center\")\n",
    "plt.show()"
   ]
  },
  {
   "cell_type": "code",
   "execution_count": null,
   "id": "032f7171",
   "metadata": {},
   "outputs": [],
   "source": []
  }
 ],
 "metadata": {
  "kernelspec": {
   "display_name": "Python 3",
   "language": "python",
   "name": "python3"
  },
  "language_info": {
   "codemirror_mode": {
    "name": "ipython",
    "version": 3
   },
   "file_extension": ".py",
   "mimetype": "text/x-python",
   "name": "python",
   "nbconvert_exporter": "python",
   "pygments_lexer": "ipython3",
   "version": "3.8.5"
  }
 },
 "nbformat": 4,
 "nbformat_minor": 5
}
