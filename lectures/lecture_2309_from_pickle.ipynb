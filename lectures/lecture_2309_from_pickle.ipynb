{
 "cells": [
  {
   "cell_type": "code",
   "execution_count": 1,
   "metadata": {
    "collapsed": true
   },
   "outputs": [],
   "source": [
    "import numpy as np\n",
    "import pandas as pd\n",
    "import matplotlib.pyplot as plt\n",
    "import seaborn as sns\n",
    "from sklearn import tree\n",
    "from sklearn.model_selection import train_test_split, cross_validate\n",
    "import pickle"
   ]
  },
  {
   "cell_type": "code",
   "execution_count": 3,
   "outputs": [],
   "source": [
    "f = open(\"../neural networks/my_first_ai\", 'rb')\n",
    "s2 = f.read()\n",
    "f.close()\n",
    "clf = pickle.loads(s2)"
   ],
   "metadata": {
    "collapsed": false,
    "pycharm": {
     "name": "#%%\n"
    }
   }
  },
  {
   "cell_type": "code",
   "execution_count": 5,
   "outputs": [
    {
     "name": "stdout",
     "output_type": "stream",
     "text": [
      "[array([0]), array([1]), array([0]), array([1]), array([1]), array([0]), array([0]), array([0]), array([0]), array([0])]\n",
      "['0', '1', '0', '1', '1', '0', '0', '0', '0', '0']\n"
     ]
    }
   ],
   "source": [
    "answers = []\n",
    "clf_results = []\n",
    "f = open('../datasets/unknown_data.dat', 'r')\n",
    "for line in f:\n",
    "    cols = line.split()\n",
    "    if cols:\n",
    "        X = np.array([[int(cols[0]), int(cols[1]), int(cols[2]), int(cols[3])]])\n",
    "        answers.append(cols[4])\n",
    "        clf_results.append(clf.predict(X))\n",
    "\n",
    "print(clf_results[:10])\n",
    "print(answers[:10])"
   ],
   "metadata": {
    "collapsed": false,
    "pycharm": {
     "name": "#%%\n"
    }
   }
  },
  {
   "cell_type": "code",
   "execution_count": null,
   "outputs": [],
   "source": [],
   "metadata": {
    "collapsed": false,
    "pycharm": {
     "name": "#%%\n"
    }
   }
  }
 ],
 "metadata": {
  "kernelspec": {
   "display_name": "Python 3",
   "language": "python",
   "name": "python3"
  },
  "language_info": {
   "codemirror_mode": {
    "name": "ipython",
    "version": 2
   },
   "file_extension": ".py",
   "mimetype": "text/x-python",
   "name": "python",
   "nbconvert_exporter": "python",
   "pygments_lexer": "ipython2",
   "version": "2.7.6"
  }
 },
 "nbformat": 4,
 "nbformat_minor": 0
}