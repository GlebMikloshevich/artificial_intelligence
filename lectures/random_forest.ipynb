{
 "cells": [
  {
   "cell_type": "code",
   "execution_count": 1,
   "outputs": [],
   "source": [
    "import sys\n",
    "from sklearn import tree\n",
    "import graphviz\n",
    "import random"
   ],
   "metadata": {
    "collapsed": false,
    "pycharm": {
     "name": "#%%\n"
    }
   }
  },
  {
   "cell_type": "code",
   "execution_count": 3,
   "outputs": [
    {
     "ename": "IndexError",
     "evalue": "list index out of range",
     "output_type": "error",
     "traceback": [
      "\u001B[0;31m---------------------------------------------------------------------------\u001B[0m",
      "\u001B[0;31mIndexError\u001B[0m                                Traceback (most recent call last)",
      "\u001B[0;32m<ipython-input-3-777d9ef83dd3>\u001B[0m in \u001B[0;36m<module>\u001B[0;34m\u001B[0m\n\u001B[1;32m     17\u001B[0m         \u001B[0mzz\u001B[0m \u001B[0;34m=\u001B[0m \u001B[0mrandom\u001B[0m\u001B[0;34m.\u001B[0m\u001B[0mrandom\u001B[0m\u001B[0;34m(\u001B[0m\u001B[0;34m)\u001B[0m\u001B[0;34m\u001B[0m\u001B[0;34m\u001B[0m\u001B[0m\n\u001B[1;32m     18\u001B[0m         XARR1.append([cols[0],cols[1],cols[2],cols[3],\n\u001B[0;32m---> 19\u001B[0;31m                       \u001B[0mcols\u001B[0m\u001B[0;34m[\u001B[0m\u001B[0;36m4\u001B[0m\u001B[0;34m]\u001B[0m\u001B[0;34m,\u001B[0m\u001B[0mcols\u001B[0m\u001B[0;34m[\u001B[0m\u001B[0;36m5\u001B[0m\u001B[0;34m]\u001B[0m\u001B[0;34m,\u001B[0m\u001B[0mcols\u001B[0m\u001B[0;34m[\u001B[0m\u001B[0;36m6\u001B[0m\u001B[0;34m]\u001B[0m\u001B[0;34m,\u001B[0m\u001B[0mcols\u001B[0m\u001B[0;34m[\u001B[0m\u001B[0;36m7\u001B[0m\u001B[0;34m]\u001B[0m\u001B[0;34m,\u001B[0m\u001B[0;36m0\u001B[0m\u001B[0;34m,\u001B[0m\u001B[0;36m0\u001B[0m\u001B[0;34m\u001B[0m\u001B[0;34m\u001B[0m\u001B[0m\n\u001B[0m\u001B[1;32m     20\u001B[0m                       ])\n\u001B[1;32m     21\u001B[0m         \u001B[0mYARR1\u001B[0m\u001B[0;34m.\u001B[0m\u001B[0mappend\u001B[0m\u001B[0;34m(\u001B[0m\u001B[0mcols\u001B[0m\u001B[0;34m[\u001B[0m\u001B[0;36m10\u001B[0m\u001B[0;34m]\u001B[0m\u001B[0;34m)\u001B[0m\u001B[0;34m\u001B[0m\u001B[0;34m\u001B[0m\u001B[0m\n",
      "\u001B[0;31mIndexError\u001B[0m: list index out of range"
     ]
    }
   ],
   "source": [
    "f = open('../datasets/test_add.dat', 'r')\n",
    "lines = f.read().split(\"\\n\")\n",
    "XARR1 = []\n",
    "YARR1 = []\n",
    "XARR2 = []\n",
    "YARR2 = []\n",
    "XARR3 = []\n",
    "YARR3 = []\n",
    "XARR4 = []\n",
    "YARR4 = []\n",
    "XARR5 = []\n",
    "YARR5 = []\n",
    "i = 0\n",
    "for line in lines:\n",
    "    cols=line.split()\n",
    "    if(cols):\n",
    "        zz = random.random()\n",
    "        XARR1.append([cols[0],cols[1],cols[2],cols[3],\n",
    "                      cols[4],cols[5],cols[6],cols[7],0,0\n",
    "                      ])\n",
    "        YARR1.append(cols[10])\n",
    "        XARR2.append([\n",
    "            cols[0],cols[1],cols[2],cols[3],\n",
    "            0,0,cols[6],cols[7],cols[8],cols[9]\n",
    "        ])\n",
    "        YARR2.append(cols[10])\n",
    "        XARR3.append([\n",
    "            0,0,cols[2],cols[3],\n",
    "            cols[4],cols[5],cols[6],cols[7],cols[8],cols[9]\n",
    "        ])\n",
    "        YARR3.append(cols[10])\n",
    "        XARR4.append([\n",
    "            0,cols[1],cols[2],0,\n",
    "            cols[4],cols[5],cols[6],cols[7],cols[8],cols[9]\n",
    "        ])\n",
    "        YARR4.append(cols[10])\n",
    "        XARR5.append([\n",
    "            cols[0],cols[1],cols[2],cols[3],\n",
    "            0,cols[5],cols[6],cols[7],cols[8],cols[9]\n",
    "        ])\n",
    "        YARR5.append(cols[10])\n",
    "\n",
    "clf1 = tree.DecisionTreeClassifier(max_depth=2)\n",
    "clf1 = clf1.fit(XARR1, YARR1)\n",
    "clf2 = tree.DecisionTreeClassifier(max_depth=2)\n",
    "clf2 = clf2.fit(XARR2, YARR2)\n",
    "clf3 = tree.DecisionTreeClassifier(max_depth=2)\n",
    "clf3 = clf3.fit(XARR3, YARR3)\n",
    "clf4 = tree.DecisionTreeClassifier(max_depth=2)\n",
    "clf4 = clf3.fit(XARR4, YARR4)\n",
    "clf5 = tree.DecisionTreeClassifier(max_depth=2)\n",
    "clf5 = clf3.fit(XARR5, YARR5)\n",
    "\n",
    "good=0\n",
    "total=0\n",
    "i = 0\n",
    "for line in lines:\n",
    "    cols=line.split()\n",
    "    if(cols):\n",
    "        EX=[cols[0],cols[1],cols[2],cols[3],\n",
    "            cols[4],cols[5],cols[6],cols[7],cols[8],cols[9]\n",
    "            ]\n",
    "        r1=clf1.predict([EX])\n",
    "        r2=clf2.predict([EX])\n",
    "        r3=clf3.predict([EX])\n",
    "        r4=clf4.predict([EX])\n",
    "        r5=clf5.predict([EX])\n",
    "        z=int((int(r1[0])+int(r2[0])+int(r3[0])+int(r4[0])+int(r5[0]))/5)\n",
    "        if  int(z) == int(cols[10]):\n",
    "            good+=1\n",
    "        total+=1\n",
    "        i+=1\n",
    "        if i%100 == 0:\n",
    "            print (str(good/total) + \" good from \" + str(total))"
   ],
   "metadata": {
    "collapsed": false,
    "pycharm": {
     "name": "#%%\n"
    }
   }
  },
  {
   "cell_type": "code",
   "execution_count": null,
   "outputs": [],
   "source": [],
   "metadata": {
    "collapsed": false,
    "pycharm": {
     "name": "#%%\n"
    }
   }
  }
 ],
 "metadata": {
  "kernelspec": {
   "display_name": "Python 3",
   "language": "python",
   "name": "python3"
  },
  "language_info": {
   "codemirror_mode": {
    "name": "ipython",
    "version": 2
   },
   "file_extension": ".py",
   "mimetype": "text/x-python",
   "name": "python",
   "nbconvert_exporter": "python",
   "pygments_lexer": "ipython2",
   "version": "2.7.6"
  }
 },
 "nbformat": 4,
 "nbformat_minor": 0
}